{
 "cells": [
  {
   "cell_type": "markdown",
   "metadata": {},
   "source": [
    "これをやる\n",
    "https://qiita.com/hik0107/items/0ae69131e5317b62c3b7"
   ]
  },
  {
   "cell_type": "code",
   "execution_count": 1,
   "metadata": {},
   "outputs": [],
   "source": [
    "import pandas as pd\n",
    "import numpy as np\n",
    "\n",
    "df_sample =\\\n",
    "pd.DataFrame([[\"day1\",\"day2\",\"day1\",\"day2\",\"day1\",\"day2\"],\n",
    "              [\"A\",\"B\",\"A\",\"B\",\"C\",\"C\"],\n",
    "              [100,150,200,150,100,50],\n",
    "              [120,160,100,180,110,80]] ).T  #とりあえず適当なデータを作ります\n",
    "\n",
    "df_sample.columns = [\"day_no\",\"class\",\"score1\",\"score2\"]  #カラム名を付ける\n",
    "df_sample.index   = [11,12,13,14,15,16]  #インデックス名を付ける"
   ]
  },
  {
   "cell_type": "code",
   "execution_count": 2,
   "metadata": {},
   "outputs": [
    {
     "data": {
      "text/plain": [
       "750"
      ]
     },
     "execution_count": 2,
     "metadata": {},
     "output_type": "execute_result"
    }
   ],
   "source": [
    "#列方向の合計 \n",
    "df_sample[\"score1\"].sum(axis=0) # Score1の値の合計を計算\n",
    "        #axis=0は縦方向にSumするという意味。デフォルトで０なので、省略可能"
   ]
  },
  {
   "cell_type": "code",
   "execution_count": 3,
   "metadata": {},
   "outputs": [
    {
     "data": {
      "text/plain": [
       "score1    750.0\n",
       "score2    750.0\n",
       "dtype: float64"
      ]
     },
     "execution_count": 3,
     "metadata": {},
     "output_type": "execute_result"
    }
   ],
   "source": [
    "df_sample[[\"score1\",\"score2\"]].sum(axis=0)  #score1,score2をそれぞれ合計。結果は2つ出力"
   ]
  },
  {
   "cell_type": "code",
   "execution_count": 4,
   "metadata": {},
   "outputs": [
    {
     "data": {
      "text/plain": [
       "11    220.0\n",
       "12    310.0\n",
       "13    300.0\n",
       "14    330.0\n",
       "15    210.0\n",
       "16    130.0\n",
       "dtype: float64"
      ]
     },
     "execution_count": 4,
     "metadata": {},
     "output_type": "execute_result"
    }
   ],
   "source": [
    "df_sample[[\"score1\",\"score2\"]].sum(axis=1)  "
   ]
  },
  {
   "cell_type": "code",
   "execution_count": 8,
   "metadata": {},
   "outputs": [
    {
     "data": {
      "text/plain": [
       "day_no\n",
       "day1    400\n",
       "day2    350\n",
       "Name: score1, dtype: int64"
      ]
     },
     "execution_count": 8,
     "metadata": {},
     "output_type": "execute_result"
    }
   ],
   "source": [
    "df_sample.pivot_table(\"score1\",     #集計する変数の指定\n",
    "                       aggfunc=\"sum\",  # 集計の仕方の指定\n",
    "                       fill_value=0,   # 該当する値がない場合の埋め値の指定\n",
    "                       columns=\"day_no\")   #列方向に展開する変数の指定"
   ]
  },
  {
   "cell_type": "code",
   "execution_count": 10,
   "metadata": {},
   "outputs": [
    {
     "data": {
      "text/html": [
       "<div>\n",
       "<table border=\"1\" class=\"dataframe\">\n",
       "  <thead>\n",
       "    <tr style=\"text-align: right;\">\n",
       "      <th></th>\n",
       "      <th>score1</th>\n",
       "      <th>score2</th>\n",
       "    </tr>\n",
       "    <tr>\n",
       "      <th>day_no</th>\n",
       "      <th></th>\n",
       "      <th></th>\n",
       "    </tr>\n",
       "  </thead>\n",
       "  <tbody>\n",
       "    <tr>\n",
       "      <th>day1</th>\n",
       "      <td>400</td>\n",
       "      <td>330</td>\n",
       "    </tr>\n",
       "    <tr>\n",
       "      <th>day2</th>\n",
       "      <td>350</td>\n",
       "      <td>420</td>\n",
       "    </tr>\n",
       "  </tbody>\n",
       "</table>\n",
       "</div>"
      ],
      "text/plain": [
       "        score1  score2\n",
       "day_no                \n",
       "day1       400     330\n",
       "day2       350     420"
      ]
     },
     "execution_count": 10,
     "metadata": {},
     "output_type": "execute_result"
    }
   ],
   "source": [
    "df_sample_grouped = df_sample.groupby(\"day_no\")  # day_noでGroup_byを行う。\n",
    "df_sample_grouped[[\"score1\",\"score2\"]].sum()     "
   ]
  },
  {
   "cell_type": "code",
   "execution_count": 12,
   "metadata": {},
   "outputs": [],
   "source": [
    "df_sample_grouped = df_sample.groupby(\"day_no\", as_index=False)"
   ]
  },
  {
   "cell_type": "code",
   "execution_count": 14,
   "metadata": {},
   "outputs": [
    {
     "data": {
      "text/html": [
       "<div>\n",
       "<table border=\"1\" class=\"dataframe\">\n",
       "  <thead>\n",
       "    <tr style=\"text-align: right;\">\n",
       "      <th></th>\n",
       "      <th>day_no</th>\n",
       "      <th>score1</th>\n",
       "      <th>score2</th>\n",
       "    </tr>\n",
       "  </thead>\n",
       "  <tbody>\n",
       "    <tr>\n",
       "      <th>0</th>\n",
       "      <td>day1</td>\n",
       "      <td>400</td>\n",
       "      <td>330</td>\n",
       "    </tr>\n",
       "    <tr>\n",
       "      <th>1</th>\n",
       "      <td>day2</td>\n",
       "      <td>350</td>\n",
       "      <td>420</td>\n",
       "    </tr>\n",
       "  </tbody>\n",
       "</table>\n",
       "</div>"
      ],
      "text/plain": [
       "  day_no  score1  score2\n",
       "0   day1     400     330\n",
       "1   day2     350     420"
      ]
     },
     "execution_count": 14,
     "metadata": {},
     "output_type": "execute_result"
    }
   ],
   "source": [
    "df_sample_grouped[[\"score1\",\"score2\"]].sum() "
   ]
  },
  {
   "cell_type": "code",
   "execution_count": null,
   "metadata": {},
   "outputs": [],
   "source": []
  }
 ],
 "metadata": {
  "kernelspec": {
   "display_name": "Python 3",
   "language": "python",
   "name": "python3"
  },
  "language_info": {
   "codemirror_mode": {
    "name": "ipython",
    "version": 3
   },
   "file_extension": ".py",
   "mimetype": "text/x-python",
   "name": "python",
   "nbconvert_exporter": "python",
   "pygments_lexer": "ipython3",
   "version": "3.5.2"
  }
 },
 "nbformat": 4,
 "nbformat_minor": 2
}
